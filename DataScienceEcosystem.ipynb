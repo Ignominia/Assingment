{
 "cells": [
  {
   "cell_type": "markdown",
   "id": "817109af",
   "metadata": {},
   "source": [
    "# Data Science Tools and Ecosystem"
   ]
  },
  {
   "cell_type": "markdown",
   "id": "2800e3db",
   "metadata": {},
   "source": [
    "## Autor\n",
    "Diego Ramos"
   ]
  },
  {
   "cell_type": "markdown",
   "id": "4779cf0b",
   "metadata": {},
   "source": [
    "In this notebook, Data Science Tools and Ecosystem are summarized."
   ]
  },
  {
   "cell_type": "markdown",
   "id": "1d9ed52d",
   "metadata": {},
   "source": [
    "**Objectives:**\n"
   ]
  },
  {
   "cell_type": "markdown",
   "id": "160ee787",
   "metadata": {},
   "source": [
    "- Identify popular languages used in Data Science.\n",
    "- Recognize commonly used libraries in Data Science.\n",
    "- List enviroments used in Data science."
   ]
  },
  {
   "cell_type": "markdown",
   "id": "39fb7fde",
   "metadata": {},
   "source": [
    "Some of the popular languages that Data Scientists use are:\n",
    "   "
   ]
  },
  {
   "cell_type": "markdown",
   "id": "bdf2aa04",
   "metadata": {},
   "source": [
    "1. Python\n",
    "2. R\n",
    "3. Julia \n",
    "4. SQL\n",
    "5. Scala"
   ]
  },
  {
   "cell_type": "markdown",
   "id": "edb0a3d6",
   "metadata": {},
   "source": [
    "Some of the commonly used libraries used by Data Scientists include:"
   ]
  },
  {
   "cell_type": "markdown",
   "id": "31307297",
   "metadata": {},
   "source": [
    "1. ggplot2\n",
    "2. Lattice\n",
    "3. NumPy\n",
    "4. Pandas\n",
    "5. TensorFlow"
   ]
  },
  {
   "cell_type": "markdown",
   "id": "000167ee",
   "metadata": {},
   "source": [
    "| Data Science Tools |\n",
    "|--------------------|\n",
    "| RStudio            |\n",
    "| JupyterNotebook    |\n",
    "| Watson Studio      |"
   ]
  },
  {
   "cell_type": "markdown",
   "id": "5706df51",
   "metadata": {},
   "source": [
    "### Below are a few examples of evaluating arithmetic expressions in Python"
   ]
  },
  {
   "cell_type": "code",
   "execution_count": 7,
   "id": "a01f2881",
   "metadata": {},
   "outputs": [
    {
     "data": {
      "text/plain": [
       "17"
      ]
     },
     "execution_count": 7,
     "metadata": {},
     "output_type": "execute_result"
    }
   ],
   "source": [
    "(3*4)+5\n",
    "#This a simple arithmetic expression to mutiply then add integers#"
   ]
  },
  {
   "cell_type": "code",
   "execution_count": 8,
   "id": "d8c66d7c",
   "metadata": {},
   "outputs": [
    {
     "data": {
      "text/plain": [
       "3.3333333333333335"
      ]
     },
     "execution_count": 8,
     "metadata": {},
     "output_type": "execute_result"
    }
   ],
   "source": [
    "#This will convert 200 minutes to hours by diving by 60\n",
    "200/60"
   ]
  },
  {
   "cell_type": "code",
   "execution_count": null,
   "id": "16f19291",
   "metadata": {},
   "outputs": [],
   "source": []
  }
 ],
 "metadata": {
  "kernelspec": {
   "display_name": "Python 3 (ipykernel)",
   "language": "python",
   "name": "python3"
  },
  "language_info": {
   "codemirror_mode": {
    "name": "ipython",
    "version": 3
   },
   "file_extension": ".py",
   "mimetype": "text/x-python",
   "name": "python",
   "nbconvert_exporter": "python",
   "pygments_lexer": "ipython3",
   "version": "3.9.13"
  }
 },
 "nbformat": 4,
 "nbformat_minor": 5
}
